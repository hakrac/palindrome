{
 "cells": [
  {
   "cell_type": "markdown",
   "metadata": {},
   "source": [
    "# Palindrom Algorithmus"
   ]
  },
  {
   "cell_type": "code",
   "execution_count": 11,
   "metadata": {},
   "outputs": [],
   "source": [
    "import numpy as np\n",
    "import matplotlib.pyplot as plt"
   ]
  },
  {
   "cell_type": "code",
   "execution_count": 21,
   "metadata": {},
   "outputs": [
    {
     "name": "stdout",
     "output_type": "stream",
     "text": [
      "[[ 0.  0.  0.  0.  0.  0.  0.  0.  0.  0.]\n",
      " [ 1.  0.  1.  1.  1.  1.  1.  1.  1.  2.]\n",
      " [ 1.  1.  0.  1.  1.  1.  1.  1.  2.  1.]\n",
      " [ 1.  1.  1.  0.  1.  1.  1.  2.  1.  2.]\n",
      " [ 1.  1.  1.  1.  0.  1.  2.  1.  2.  2.]\n",
      " [ 1.  1.  1.  1.  1.  0.  1.  2.  2.  3.]\n",
      " [ 1.  1.  1.  1.  2.  1.  0.  2.  3.  4.]\n",
      " [ 1.  1.  1.  2.  1.  2.  2.  0.  4.  6.]\n",
      " [ 1.  1.  2.  1.  2.  2.  3.  4.  0. 24.]\n",
      " [ 1.  2.  1.  2.  2.  3.  4.  6. 24.  0.]]\n"
     ]
    }
   ],
   "source": [
    "width = 10\n",
    "result = np.zeros((width, width))\n",
    "\n",
    "def reverse(number):\n",
    "    return int(str(number)[::-1])\n",
    "\n",
    "def is_palindrome(number):\n",
    "    return reverse(number) == number\n",
    "\n",
    "for x in range(width):\n",
    "    for y in range(width):\n",
    "        number = x * width + y\n",
    "        count = 0\n",
    "        while not is_palindrome(number):\n",
    "            number += reverse(number)\n",
    "            count += 1\n",
    "        result[x, y] = count\n",
    "print(result)"
   ]
  }
 ],
 "metadata": {
  "kernelspec": {
   "display_name": "Python 3",
   "language": "python",
   "name": "python3"
  },
  "language_info": {
   "codemirror_mode": {
    "name": "ipython",
    "version": 3
   },
   "file_extension": ".py",
   "mimetype": "text/x-python",
   "name": "python",
   "nbconvert_exporter": "python",
   "pygments_lexer": "ipython3",
   "version": "3.7.4"
  }
 },
 "nbformat": 4,
 "nbformat_minor": 4
}
